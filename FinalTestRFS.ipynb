{
 "cells": [
  {
   "cell_type": "code",
   "execution_count": 1,
   "id": "ee725558",
   "metadata": {},
   "outputs": [],
   "source": [
    "# load model from pickle file\n",
    "import pandas as pd\n",
    "import numpy as np\n",
    "import joblib"
   ]
  },
  {
   "cell_type": "code",
   "execution_count": 2,
   "id": "e4732391",
   "metadata": {},
   "outputs": [],
   "source": [
    "testdata=pd.read_excel('TestDatasetExample.xls')"
   ]
  },
  {
   "cell_type": "code",
   "execution_count": 3,
   "id": "1314453d",
   "metadata": {},
   "outputs": [
    {
     "data": {
      "text/html": [
       "<div>\n",
       "<style scoped>\n",
       "    .dataframe tbody tr th:only-of-type {\n",
       "        vertical-align: middle;\n",
       "    }\n",
       "\n",
       "    .dataframe tbody tr th {\n",
       "        vertical-align: top;\n",
       "    }\n",
       "\n",
       "    .dataframe thead th {\n",
       "        text-align: right;\n",
       "    }\n",
       "</style>\n",
       "<table border=\"1\" class=\"dataframe\">\n",
       "  <thead>\n",
       "    <tr style=\"text-align: right;\">\n",
       "      <th></th>\n",
       "      <th>ER</th>\n",
       "      <th>PgR</th>\n",
       "      <th>HER2</th>\n",
       "      <th>TrippleNegative</th>\n",
       "      <th>ChemoGrade</th>\n",
       "      <th>LNStatus</th>\n",
       "      <th>original_shape_Flatness</th>\n",
       "      <th>original_firstorder_90Percentile</th>\n",
       "      <th>original_firstorder_InterquartileRange</th>\n",
       "      <th>original_firstorder_Minimum</th>\n",
       "      <th>original_glszm_GrayLevelNonUniformity</th>\n",
       "      <th>original_glszm_SmallAreaEmphasis</th>\n",
       "    </tr>\n",
       "  </thead>\n",
       "  <tbody>\n",
       "    <tr>\n",
       "      <th>0</th>\n",
       "      <td>0</td>\n",
       "      <td>0</td>\n",
       "      <td>0</td>\n",
       "      <td>1</td>\n",
       "      <td>3</td>\n",
       "      <td>0</td>\n",
       "      <td>0.520922</td>\n",
       "      <td>2.192586</td>\n",
       "      <td>1.242465</td>\n",
       "      <td>-1.120653</td>\n",
       "      <td>8.200000</td>\n",
       "      <td>0.194591</td>\n",
       "    </tr>\n",
       "    <tr>\n",
       "      <th>1</th>\n",
       "      <td>0</td>\n",
       "      <td>0</td>\n",
       "      <td>1</td>\n",
       "      <td>0</td>\n",
       "      <td>2</td>\n",
       "      <td>0</td>\n",
       "      <td>0.500237</td>\n",
       "      <td>3.410223</td>\n",
       "      <td>1.557124</td>\n",
       "      <td>-1.035116</td>\n",
       "      <td>17.782609</td>\n",
       "      <td>0.309997</td>\n",
       "    </tr>\n",
       "    <tr>\n",
       "      <th>2</th>\n",
       "      <td>0</td>\n",
       "      <td>0</td>\n",
       "      <td>0</td>\n",
       "      <td>1</td>\n",
       "      <td>3</td>\n",
       "      <td>1</td>\n",
       "      <td>0.487975</td>\n",
       "      <td>3.139599</td>\n",
       "      <td>1.902003</td>\n",
       "      <td>-1.623018</td>\n",
       "      <td>45.042553</td>\n",
       "      <td>0.328377</td>\n",
       "    </tr>\n",
       "  </tbody>\n",
       "</table>\n",
       "</div>"
      ],
      "text/plain": [
       "   ER  PgR  HER2  TrippleNegative  ChemoGrade  LNStatus  \\\n",
       "0   0    0     0                1           3         0   \n",
       "1   0    0     1                0           2         0   \n",
       "2   0    0     0                1           3         1   \n",
       "\n",
       "   original_shape_Flatness  original_firstorder_90Percentile  \\\n",
       "0                 0.520922                          2.192586   \n",
       "1                 0.500237                          3.410223   \n",
       "2                 0.487975                          3.139599   \n",
       "\n",
       "   original_firstorder_InterquartileRange  original_firstorder_Minimum  \\\n",
       "0                                1.242465                    -1.120653   \n",
       "1                                1.557124                    -1.035116   \n",
       "2                                1.902003                    -1.623018   \n",
       "\n",
       "   original_glszm_GrayLevelNonUniformity  original_glszm_SmallAreaEmphasis  \n",
       "0                               8.200000                          0.194591  \n",
       "1                              17.782609                          0.309997  \n",
       "2                              45.042553                          0.328377  "
      ]
     },
     "execution_count": 3,
     "metadata": {},
     "output_type": "execute_result"
    }
   ],
   "source": [
    "selected_features = ['ER', 'PgR', 'HER2', 'TrippleNegative', 'ChemoGrade', 'LNStatus','original_shape_Flatness', 'original_firstorder_90Percentile','original_firstorder_InterquartileRange', 'original_firstorder_Minimum','original_glszm_GrayLevelNonUniformity','original_glszm_SmallAreaEmphasis']\n",
    "X_new=testdata[selected_features]\n",
    "X_new"
   ]
  },
  {
   "cell_type": "code",
   "execution_count": 4,
   "id": "38c0ce7d",
   "metadata": {},
   "outputs": [
    {
     "name": "stderr",
     "output_type": "stream",
     "text": [
      "C:\\Users\\local_psxtm7\\Temp\\ipykernel_24968\\1139305188.py:2: SettingWithCopyWarning: \n",
      "A value is trying to be set on a copy of a slice from a DataFrame\n",
      "\n",
      "See the caveats in the documentation: https://pandas.pydata.org/pandas-docs/stable/user_guide/indexing.html#returning-a-view-versus-a-copy\n",
      "  X_new.replace(999, np.nan, inplace=True)\n",
      "C:\\Users\\local_psxtm7\\Temp\\ipykernel_24968\\1139305188.py:3: SettingWithCopyWarning: \n",
      "A value is trying to be set on a copy of a slice from a DataFrame.\n",
      "Try using .loc[row_indexer,col_indexer] = value instead\n",
      "\n",
      "See the caveats in the documentation: https://pandas.pydata.org/pandas-docs/stable/user_guide/indexing.html#returning-a-view-versus-a-copy\n",
      "  X_new.fillna(X_new.median(), inplace=True)\n"
     ]
    }
   ],
   "source": [
    "#Data cleaning\n",
    "X_new.replace(999, np.nan, inplace=True)\n",
    "X_new.fillna(X_new.median(), inplace=True)"
   ]
  },
  {
   "cell_type": "code",
   "execution_count": 5,
   "id": "4d3cd512",
   "metadata": {},
   "outputs": [
    {
     "name": "stdout",
     "output_type": "stream",
     "text": [
      "[58.23902065 44.46337446 48.76312641]\n"
     ]
    }
   ],
   "source": [
    "loaded_model = joblib.load('rf_regressor.joblib')\n",
    "\n",
    "# Assuming X_new is your new data\n",
    "predictions = loaded_model.predict(X_new)\n",
    "\n",
    "# Display or use the predictions as needed\n",
    "print(predictions)"
   ]
  },
  {
   "cell_type": "code",
   "execution_count": 8,
   "id": "2fdfad7a",
   "metadata": {},
   "outputs": [],
   "source": [
    "# Inserting \"pcr\" column in the second position\n",
    "testdata.insert(1, \"RFS\", predictions)\n",
    "\n",
    "# Saving the updated dataset\n",
    "testdata.to_csv(\"updated_dataset_RFS.csv\", index=False)"
   ]
  },
  {
   "cell_type": "code",
   "execution_count": null,
   "id": "c538f52f",
   "metadata": {},
   "outputs": [],
   "source": []
  }
 ],
 "metadata": {
  "kernelspec": {
   "display_name": "Python 3 (ipykernel)",
   "language": "python",
   "name": "python3"
  },
  "language_info": {
   "codemirror_mode": {
    "name": "ipython",
    "version": 3
   },
   "file_extension": ".py",
   "mimetype": "text/x-python",
   "name": "python",
   "nbconvert_exporter": "python",
   "pygments_lexer": "ipython3",
   "version": "3.11.4"
  }
 },
 "nbformat": 4,
 "nbformat_minor": 5
}
