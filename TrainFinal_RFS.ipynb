{
 "cells": [
  {
   "cell_type": "code",
   "execution_count": 29,
   "id": "cb381d27",
   "metadata": {},
   "outputs": [],
   "source": [
    "#importing libraries\n",
    "import numpy as np\n",
    "import pandas as pd\n",
    "import xgboost as xgb\n",
    "from sklearn.model_selection import train_test_split, cross_val_score, KFold\n",
    "from sklearn.ensemble import RandomForestRegressor\n",
    "from sklearn.metrics import mean_absolute_error, r2_score\n",
    "from sklearn.feature_selection import RFE\n",
    "from sklearn.preprocessing import StandardScaler\n",
    "from sklearn.feature_selection import VarianceThreshold\n",
    "import matplotlib.pyplot as plt\n",
    "from sklearn.feature_selection import VarianceThreshold\n",
    "from sklearn.feature_selection import SelectKBest\n",
    "from sklearn.feature_selection import SequentialFeatureSelector\n",
    "import joblib"
   ]
  },
  {
   "cell_type": "code",
   "execution_count": 30,
   "id": "868237a3",
   "metadata": {},
   "outputs": [],
   "source": [
    "#loading training dataset\n",
    "dataset = pd.read_excel('TrainDataset2023.xls')\n",
    "\n",
    "# Data preprocessing\n",
    "# Label encoding the ID column (optional as we drop ID column anyhow)\n",
    "from sklearn.preprocessing import LabelEncoder\n",
    "label_encoder = LabelEncoder()\n",
    "dataset['ID'] = label_encoder.fit_transform(dataset['ID'])\n",
    "c = ['ID','pCR (outcome)']\n",
    "# Replace 999 with NaN\n",
    "dataset.replace(999, np.nan, inplace=True)\n",
    "dataset.fillna(dataset.median(), inplace=True)"
   ]
  },
  {
   "cell_type": "code",
   "execution_count": 31,
   "id": "12dfd5b5",
   "metadata": {},
   "outputs": [],
   "source": [
    "import numpy as np\n",
    "\n",
    "def remove_outliers(df):\n",
    "    threshold = 3\n",
    "    z_scores = np.abs((df - df.mean()) / df.std())\n",
    "    df = df[(z_scores < threshold).all(axis=1)]\n",
    "    return df"
   ]
  },
  {
   "cell_type": "code",
   "execution_count": 32,
   "id": "e76917ab",
   "metadata": {},
   "outputs": [],
   "source": [
    "dataset = remove_outliers(dataset)"
   ]
  },
  {
   "cell_type": "code",
   "execution_count": 33,
   "id": "985bcd5c",
   "metadata": {},
   "outputs": [
    {
     "name": "stdout",
     "output_type": "stream",
     "text": [
      "correlated features:  87\n"
     ]
    }
   ],
   "source": [
    "df1 = dataset.copy()\n",
    "#correlated features of dataset\n",
    "def correlation(data, threshold):\n",
    "    col_corr = {}  # Dictionary to store correlated features\n",
    "    corr_matrix = data.corr()\n",
    "    for i in range(len(corr_matrix.columns)):\n",
    "        for j in range(i):\n",
    "            if abs(corr_matrix.iloc[i, j]) > threshold:  # We are interested in absolute coefficient value\n",
    "                colname = corr_matrix.columns[i]\n",
    "                if colname not in col_corr:\n",
    "                    col_corr[colname] = set()\n",
    "                col_corr[colname].add(corr_matrix.columns[j])\n",
    "\n",
    "    return col_corr\n",
    "\n",
    "corr_features = correlation(df1, 0.8)\n",
    "print('correlated features: ', len(corr_features))"
   ]
  },
  {
   "cell_type": "code",
   "execution_count": 34,
   "id": "956a1c2b",
   "metadata": {},
   "outputs": [
    {
     "data": {
      "text/plain": [
       "(313, 33)"
      ]
     },
     "execution_count": 34,
     "metadata": {},
     "output_type": "execute_result"
    }
   ],
   "source": [
    "df_corr= df1.drop(labels=corr_features, axis=1)\n",
    "df_corr.shape"
   ]
  },
  {
   "cell_type": "code",
   "execution_count": 35,
   "id": "383ddad1",
   "metadata": {},
   "outputs": [
    {
     "name": "stdout",
     "output_type": "stream",
     "text": [
      "How many are not quasi-constant features:  28\n"
     ]
    }
   ],
   "source": [
    "# quasi constant feature checking and removing the features \n",
    "fr = VarianceThreshold(threshold=0.01)\n",
    "\n",
    "#fitting the variance threshold to finding and removing the features with low variance\n",
    "df_corr_quasi = fr.fit_transform(df_corr)\n",
    "\n",
    "features_columns = df_corr.columns[fr.get_support()]\n",
    "print(\"How many are not quasi-constant features: \",sum(fr.get_support()))"
   ]
  },
  {
   "cell_type": "code",
   "execution_count": 36,
   "id": "955bca7e",
   "metadata": {},
   "outputs": [
    {
     "data": {
      "text/plain": [
       "(313, 28)"
      ]
     },
     "execution_count": 36,
     "metadata": {},
     "output_type": "execute_result"
    }
   ],
   "source": [
    "#converting the arryas  to dataframe type\n",
    "#checking if columns are assigned corectly\n",
    "df_corr_quasi= pd.DataFrame(df_corr_quasi, columns=features_columns)\n",
    "df_corr_quasi.columns = features_columns\n",
    "\n",
    "df_corr_quasi.shape"
   ]
  },
  {
   "cell_type": "code",
   "execution_count": 37,
   "id": "375ffe8d",
   "metadata": {},
   "outputs": [],
   "source": [
    "df_corr_quasi1 = df_corr_quasi.copy()"
   ]
  },
  {
   "cell_type": "code",
   "execution_count": 38,
   "id": "19cddb4b",
   "metadata": {},
   "outputs": [],
   "source": [
    "# Dropping all the columns other than features\n",
    "columns_to_drop = ['ID','pCR (outcome)','RelapseFreeSurvival (outcome)']\n",
    "X = df_corr_quasi1.drop(columns_to_drop, axis=1)\n",
    "y = df_corr_quasi1['RelapseFreeSurvival (outcome)']"
   ]
  },
  {
   "cell_type": "code",
   "execution_count": 39,
   "id": "757c8093",
   "metadata": {},
   "outputs": [],
   "source": [
    "#Z-normalization\n",
    "scaler = StandardScaler()\n",
    "X_scaled = scaler.fit_transform(X)"
   ]
  },
  {
   "cell_type": "code",
   "execution_count": 40,
   "id": "6b79bd70",
   "metadata": {},
   "outputs": [],
   "source": [
    "#rfe = RFE(rf_regressor, n_features_to_select=12)\n",
    "#rfe.fit(X, y)\n",
    "#selected_features = X.columns[rfe.support_]\n",
    "\n",
    "#feature selection using sequential feature selection method\n",
    "selector = SequentialFeatureSelector(estimator=RandomForestRegressor(n_estimators=100), n_features_to_select='auto')\n",
    "selector.fit(X,y)\n",
    "selected_features = X.columns[selector.support_]"
   ]
  },
  {
   "cell_type": "code",
   "execution_count": 41,
   "id": "85ac7f5b",
   "metadata": {},
   "outputs": [
    {
     "data": {
      "text/plain": [
       "Index(['ER', 'PgR', 'HER2', 'TrippleNegative', 'ChemoGrade', 'LNStatus',\n",
       "       'original_shape_LeastAxisLength', 'original_shape_SurfaceVolumeRatio',\n",
       "       'original_firstorder_10Percentile', 'original_firstorder_90Percentile',\n",
       "       'original_firstorder_InterquartileRange',\n",
       "       'original_glszm_SmallAreaEmphasis'],\n",
       "      dtype='object')"
      ]
     },
     "execution_count": 41,
     "metadata": {},
     "output_type": "execute_result"
    }
   ],
   "source": [
    "selected_features\n",
    "new_X = df_corr_quasi1[selected_features]\n",
    "new_X.columns"
   ]
  },
  {
   "cell_type": "code",
   "execution_count": 42,
   "id": "0448f367",
   "metadata": {},
   "outputs": [
    {
     "data": {
      "text/html": [
       "<style>#sk-container-id-2 {color: black;}#sk-container-id-2 pre{padding: 0;}#sk-container-id-2 div.sk-toggleable {background-color: white;}#sk-container-id-2 label.sk-toggleable__label {cursor: pointer;display: block;width: 100%;margin-bottom: 0;padding: 0.3em;box-sizing: border-box;text-align: center;}#sk-container-id-2 label.sk-toggleable__label-arrow:before {content: \"▸\";float: left;margin-right: 0.25em;color: #696969;}#sk-container-id-2 label.sk-toggleable__label-arrow:hover:before {color: black;}#sk-container-id-2 div.sk-estimator:hover label.sk-toggleable__label-arrow:before {color: black;}#sk-container-id-2 div.sk-toggleable__content {max-height: 0;max-width: 0;overflow: hidden;text-align: left;background-color: #f0f8ff;}#sk-container-id-2 div.sk-toggleable__content pre {margin: 0.2em;color: black;border-radius: 0.25em;background-color: #f0f8ff;}#sk-container-id-2 input.sk-toggleable__control:checked~div.sk-toggleable__content {max-height: 200px;max-width: 100%;overflow: auto;}#sk-container-id-2 input.sk-toggleable__control:checked~label.sk-toggleable__label-arrow:before {content: \"▾\";}#sk-container-id-2 div.sk-estimator input.sk-toggleable__control:checked~label.sk-toggleable__label {background-color: #d4ebff;}#sk-container-id-2 div.sk-label input.sk-toggleable__control:checked~label.sk-toggleable__label {background-color: #d4ebff;}#sk-container-id-2 input.sk-hidden--visually {border: 0;clip: rect(1px 1px 1px 1px);clip: rect(1px, 1px, 1px, 1px);height: 1px;margin: -1px;overflow: hidden;padding: 0;position: absolute;width: 1px;}#sk-container-id-2 div.sk-estimator {font-family: monospace;background-color: #f0f8ff;border: 1px dotted black;border-radius: 0.25em;box-sizing: border-box;margin-bottom: 0.5em;}#sk-container-id-2 div.sk-estimator:hover {background-color: #d4ebff;}#sk-container-id-2 div.sk-parallel-item::after {content: \"\";width: 100%;border-bottom: 1px solid gray;flex-grow: 1;}#sk-container-id-2 div.sk-label:hover label.sk-toggleable__label {background-color: #d4ebff;}#sk-container-id-2 div.sk-serial::before {content: \"\";position: absolute;border-left: 1px solid gray;box-sizing: border-box;top: 0;bottom: 0;left: 50%;z-index: 0;}#sk-container-id-2 div.sk-serial {display: flex;flex-direction: column;align-items: center;background-color: white;padding-right: 0.2em;padding-left: 0.2em;position: relative;}#sk-container-id-2 div.sk-item {position: relative;z-index: 1;}#sk-container-id-2 div.sk-parallel {display: flex;align-items: stretch;justify-content: center;background-color: white;position: relative;}#sk-container-id-2 div.sk-item::before, #sk-container-id-2 div.sk-parallel-item::before {content: \"\";position: absolute;border-left: 1px solid gray;box-sizing: border-box;top: 0;bottom: 0;left: 50%;z-index: -1;}#sk-container-id-2 div.sk-parallel-item {display: flex;flex-direction: column;z-index: 1;position: relative;background-color: white;}#sk-container-id-2 div.sk-parallel-item:first-child::after {align-self: flex-end;width: 50%;}#sk-container-id-2 div.sk-parallel-item:last-child::after {align-self: flex-start;width: 50%;}#sk-container-id-2 div.sk-parallel-item:only-child::after {width: 0;}#sk-container-id-2 div.sk-dashed-wrapped {border: 1px dashed gray;margin: 0 0.4em 0.5em 0.4em;box-sizing: border-box;padding-bottom: 0.4em;background-color: white;}#sk-container-id-2 div.sk-label label {font-family: monospace;font-weight: bold;display: inline-block;line-height: 1.2em;}#sk-container-id-2 div.sk-label-container {text-align: center;}#sk-container-id-2 div.sk-container {/* jupyter's `normalize.less` sets `[hidden] { display: none; }` but bootstrap.min.css set `[hidden] { display: none !important; }` so we also need the `!important` here to be able to override the default hidden behavior on the sphinx rendered scikit-learn.org. See: https://github.com/scikit-learn/scikit-learn/issues/21755 */display: inline-block !important;position: relative;}#sk-container-id-2 div.sk-text-repr-fallback {display: none;}</style><div id=\"sk-container-id-2\" class=\"sk-top-container\"><div class=\"sk-text-repr-fallback\"><pre>RandomForestRegressor(max_depth=9, random_state=10)</pre><b>In a Jupyter environment, please rerun this cell to show the HTML representation or trust the notebook. <br />On GitHub, the HTML representation is unable to render, please try loading this page with nbviewer.org.</b></div><div class=\"sk-container\" hidden><div class=\"sk-item\"><div class=\"sk-estimator sk-toggleable\"><input class=\"sk-toggleable__control sk-hidden--visually\" id=\"sk-estimator-id-2\" type=\"checkbox\" checked><label for=\"sk-estimator-id-2\" class=\"sk-toggleable__label sk-toggleable__label-arrow\">RandomForestRegressor</label><div class=\"sk-toggleable__content\"><pre>RandomForestRegressor(max_depth=9, random_state=10)</pre></div></div></div></div></div>"
      ],
      "text/plain": [
       "RandomForestRegressor(max_depth=9, random_state=10)"
      ]
     },
     "execution_count": 42,
     "metadata": {},
     "output_type": "execute_result"
    }
   ],
   "source": [
    "#xg_reg = xgb.XGBRegressor(objective='reg:squarederror', colsample_bytree=0.3, learning_rate=0.6,subsample=0.01,max_depth=10, n_estimators=10)\n",
    "\n",
    "#Random forest regressor\n",
    "rf_regressor = RandomForestRegressor(n_estimators=100, max_depth = 9,random_state=10)\n",
    "\n",
    "#Train test split data\n",
    "X_train, X_test, y_train, y_test = train_test_split(new_X, y, test_size=0.1, random_state=10)\n",
    "\n",
    "#Fitting the model with the selected features only\n",
    "rf_regressor.fit(X_train, y_train)"
   ]
  },
  {
   "cell_type": "code",
   "execution_count": 43,
   "id": "eac3cd18",
   "metadata": {},
   "outputs": [],
   "source": [
    "# Make predictions on the test set\n",
    "y_pred = rf_regressor.predict(X_test)"
   ]
  },
  {
   "cell_type": "code",
   "execution_count": 44,
   "id": "f15bc7e6",
   "metadata": {},
   "outputs": [
    {
     "name": "stdout",
     "output_type": "stream",
     "text": [
      "Mean Absolute Error: 15.558959021247993\n"
     ]
    }
   ],
   "source": [
    "# Evaluate the performance of the model\n",
    "mae = mean_absolute_error(y_test, y_pred)\n",
    "print(f'Mean Absolute Error: {mae}')"
   ]
  },
  {
   "cell_type": "code",
   "execution_count": 45,
   "id": "6b10780b",
   "metadata": {},
   "outputs": [],
   "source": [
    "k_fold = KFold(n_splits=10, shuffle=True, random_state=10)\n",
    "mae_scores = cross_val_score(rf_regressor, new_X, y, scoring='neg_mean_absolute_error', cv=k_fold)"
   ]
  },
  {
   "cell_type": "code",
   "execution_count": 46,
   "id": "a14d53d4",
   "metadata": {},
   "outputs": [
    {
     "name": "stdout",
     "output_type": "stream",
     "text": [
      "Fold 1: Mean Absolute Error: 15.95452099047807\n",
      "Fold 2: Mean Absolute Error: 22.744015008953035\n",
      "Fold 3: Mean Absolute Error: 22.564765773286915\n",
      "Fold 4: Mean Absolute Error: 21.658076177302416\n",
      "Fold 5: Mean Absolute Error: 17.86325355765368\n",
      "Fold 6: Mean Absolute Error: 17.77127889652033\n",
      "Fold 7: Mean Absolute Error: 18.172086566143612\n",
      "Fold 8: Mean Absolute Error: 22.148916568258475\n",
      "Fold 9: Mean Absolute Error: 19.12241858102302\n",
      "Fold 10: Mean Absolute Error: 22.582866497002716\n"
     ]
    }
   ],
   "source": [
    "for i, mae in enumerate(mae_scores, 1):\n",
    "    print(f'Fold {i}: Mean Absolute Error: {abs(mae)}')"
   ]
  },
  {
   "cell_type": "code",
   "execution_count": 47,
   "id": "2126ade6",
   "metadata": {},
   "outputs": [
    {
     "name": "stdout",
     "output_type": "stream",
     "text": [
      "Average Mean Absolute Error across all folds: 20.058219861662227\n"
     ]
    }
   ],
   "source": [
    "print(f'Average Mean Absolute Error across all folds: {abs(mae_scores.mean())}')"
   ]
  },
  {
   "cell_type": "code",
   "execution_count": 28,
   "id": "893ba7bc",
   "metadata": {},
   "outputs": [
    {
     "data": {
      "text/plain": [
       "['rf_regressor1.joblib']"
      ]
     },
     "execution_count": 28,
     "metadata": {},
     "output_type": "execute_result"
    }
   ],
   "source": [
    "#saving the model\n",
    "\n",
    "#model = RandomForestRegressor()\n",
    "#joblib.dump(rf_regressor, 'rf_regressor.joblib')"
   ]
  }
 ],
 "metadata": {
  "kernelspec": {
   "display_name": "Python 3 (ipykernel)",
   "language": "python",
   "name": "python3"
  },
  "language_info": {
   "codemirror_mode": {
    "name": "ipython",
    "version": 3
   },
   "file_extension": ".py",
   "mimetype": "text/x-python",
   "name": "python",
   "nbconvert_exporter": "python",
   "pygments_lexer": "ipython3",
   "version": "3.11.5"
  }
 },
 "nbformat": 4,
 "nbformat_minor": 5
}
