{
 "cells": [
  {
   "cell_type": "code",
   "execution_count": 1,
   "id": "f09fc376",
   "metadata": {},
   "outputs": [
    {
     "name": "stderr",
     "output_type": "stream",
     "text": [
      "C:\\Anaconda3\\Lib\\site-packages\\sklearn\\base.py:347: InconsistentVersionWarning: Trying to unpickle estimator DecisionTreeClassifier from version 1.3.2 when using version 1.3.0. This might lead to breaking code or invalid results. Use at your own risk. For more info please refer to:\n",
      "https://scikit-learn.org/stable/model_persistence.html#security-maintainability-limitations\n",
      "  warnings.warn(\n",
      "C:\\Anaconda3\\Lib\\site-packages\\sklearn\\base.py:347: InconsistentVersionWarning: Trying to unpickle estimator RandomForestClassifier from version 1.3.2 when using version 1.3.0. This might lead to breaking code or invalid results. Use at your own risk. For more info please refer to:\n",
      "https://scikit-learn.org/stable/model_persistence.html#security-maintainability-limitations\n",
      "  warnings.warn(\n"
     ]
    }
   ],
   "source": [
    "import pickle\n",
    "from sklearn.preprocessing import StandardScaler\n",
    "import pandas as pd\n",
    "import numpy as np\n",
    "import re\n",
    "\n",
    "# Load the model from the file\n",
    "loaded_model = pickle.load(open('rf_model1.pkl', 'rb'))"
   ]
  },
  {
   "cell_type": "code",
   "execution_count": 2,
   "id": "879b2dc0",
   "metadata": {},
   "outputs": [],
   "source": [
    "# Loading the columns from the text file\n",
    "with open(\"30cor.txt\") as f:\n",
    "    selected_features = f.readlines()\n",
    "    selected_features = [feature.strip() for feature in selected_features]\n",
    "\n",
    "data = pd.read_excel(\"TestDatasetExample.xls\")\n",
    "# Selected columns are features selected using correlation\n",
    "df = data[selected_features]"
   ]
  },
  {
   "cell_type": "code",
   "execution_count": 3,
   "id": "d89f7b9b",
   "metadata": {},
   "outputs": [
    {
     "name": "stdout",
     "output_type": "stream",
     "text": [
      "<class 'pandas.core.frame.DataFrame'>\n",
      "RangeIndex: 3 entries, 0 to 2\n",
      "Data columns (total 30 columns):\n",
      " #   Column                                           Non-Null Count  Dtype  \n",
      "---  ------                                           --------------  -----  \n",
      " 0   Age                                              3 non-null      float64\n",
      " 1   ER                                               3 non-null      int64  \n",
      " 2   PgR                                              3 non-null      int64  \n",
      " 3   HER2                                             3 non-null      int64  \n",
      " 4   TrippleNegative                                  3 non-null      int64  \n",
      " 5   ChemoGrade                                       3 non-null      int64  \n",
      " 6   HistologyType                                    3 non-null      int64  \n",
      " 7   LNStatus                                         3 non-null      int64  \n",
      " 8   TumourStage                                      3 non-null      int64  \n",
      " 9   original_shape_Elongation                        3 non-null      float64\n",
      " 10  original_shape_Flatness                          3 non-null      float64\n",
      " 11  original_shape_LeastAxisLength                   3 non-null      float64\n",
      " 12  original_shape_MajorAxisLength                   3 non-null      float64\n",
      " 13  original_shape_SurfaceVolumeRatio                3 non-null      float64\n",
      " 14  original_firstorder_10Percentile                 3 non-null      float64\n",
      " 15  original_firstorder_90Percentile                 3 non-null      float64\n",
      " 16  original_firstorder_InterquartileRange           3 non-null      float64\n",
      " 17  original_firstorder_Kurtosis                     3 non-null      float64\n",
      " 18  original_firstorder_Minimum                      3 non-null      float64\n",
      " 19  original_firstorder_Skewness                     3 non-null      float64\n",
      " 20  original_gldm_DependenceEntropy                  3 non-null      float64\n",
      " 21  original_gldm_SmallDependenceEmphasis            3 non-null      float64\n",
      " 22  original_glrlm_RunLengthNonUniformity            3 non-null      float64\n",
      " 23  original_glrlm_ShortRunHighGrayLevelEmphasis     3 non-null      float64\n",
      " 24  original_glszm_GrayLevelNonUniformity            3 non-null      float64\n",
      " 25  original_glszm_GrayLevelNonUniformityNormalized  3 non-null      float64\n",
      " 26  original_glszm_LargeAreaEmphasis                 3 non-null      float64\n",
      " 27  original_glszm_SizeZoneNonUniformityNormalized   3 non-null      float64\n",
      " 28  original_glszm_SmallAreaEmphasis                 3 non-null      float64\n",
      " 29  original_ngtdm_Coarseness                        3 non-null      float64\n",
      "dtypes: float64(22), int64(8)\n",
      "memory usage: 852.0 bytes\n"
     ]
    }
   ],
   "source": [
    "df.info()"
   ]
  },
  {
   "cell_type": "code",
   "execution_count": 4,
   "id": "9ae96079",
   "metadata": {
    "scrolled": true
   },
   "outputs": [
    {
     "name": "stderr",
     "output_type": "stream",
     "text": [
      "C:\\Users\\local_psxtm7\\Temp\\ipykernel_18296\\2647338564.py:3: SettingWithCopyWarning: \n",
      "A value is trying to be set on a copy of a slice from a DataFrame\n",
      "\n",
      "See the caveats in the documentation: https://pandas.pydata.org/pandas-docs/stable/user_guide/indexing.html#returning-a-view-versus-a-copy\n",
      "  df.replace(to_replace=999, value=np.nan, inplace=True)\n",
      "C:\\Users\\local_psxtm7\\Temp\\ipykernel_18296\\2647338564.py:6: SettingWithCopyWarning: \n",
      "A value is trying to be set on a copy of a slice from a DataFrame\n",
      "\n",
      "See the caveats in the documentation: https://pandas.pydata.org/pandas-docs/stable/user_guide/indexing.html#returning-a-view-versus-a-copy\n",
      "  df.fillna(df.mode(),inplace=True)\n"
     ]
    }
   ],
   "source": [
    "\n",
    "# Replacing all the values of 999 with NaNs\n",
    "df.replace(to_replace=999, value=np.nan, inplace=True)\n",
    "\n",
    "# Calculating the mode of each column and replacing it with nan values\n",
    "df.fillna(df.mode(),inplace=True)"
   ]
  },
  {
   "cell_type": "code",
   "execution_count": 5,
   "id": "2c69eac7",
   "metadata": {},
   "outputs": [],
   "source": [
    "X = df\n",
    "\n",
    "scaler = StandardScaler()\n",
    "X_test = scaler.fit_transform(X)"
   ]
  },
  {
   "cell_type": "code",
   "execution_count": 6,
   "id": "39f58a83",
   "metadata": {},
   "outputs": [
    {
     "name": "stdout",
     "output_type": "stream",
     "text": [
      "[0 1 0]\n"
     ]
    }
   ],
   "source": [
    "# Prediction using model\n",
    "ypred = loaded_model.predict(X_test)\n",
    "\n",
    "threshold = 0.5\n",
    "# Apply the thresholding function to the ypred array\n",
    "ypred_thresholded = (ypred >= threshold).astype(int)\n",
    "\n",
    "print(ypred_thresholded)"
   ]
  },
  {
   "cell_type": "code",
   "execution_count": 9,
   "id": "eea55107",
   "metadata": {},
   "outputs": [],
   "source": [
    "# Inserting \"pcr\" column in the second position\n",
    "data.insert(1, \"PCR\", ypred)\n",
    "\n",
    "# Saving the updated dataset\n",
    "data.to_csv(\"updated_dataset_PCR.csv\", index=False)"
   ]
  },
  {
   "cell_type": "code",
   "execution_count": null,
   "id": "49871b44",
   "metadata": {},
   "outputs": [],
   "source": []
  }
 ],
 "metadata": {
  "kernelspec": {
   "display_name": "Python 3 (ipykernel)",
   "language": "python",
   "name": "python3"
  },
  "language_info": {
   "codemirror_mode": {
    "name": "ipython",
    "version": 3
   },
   "file_extension": ".py",
   "mimetype": "text/x-python",
   "name": "python",
   "nbconvert_exporter": "python",
   "pygments_lexer": "ipython3",
   "version": "3.11.4"
  }
 },
 "nbformat": 4,
 "nbformat_minor": 5
}
